{
 "cells": [
  {
   "cell_type": "code",
   "execution_count": 1,
   "id": "other-heart",
   "metadata": {},
   "outputs": [],
   "source": [
    "%config Completer.use_jedi = False"
   ]
  },
  {
   "cell_type": "code",
   "execution_count": 2,
   "id": "filled-salmon",
   "metadata": {},
   "outputs": [],
   "source": [
    "import re"
   ]
  },
  {
   "cell_type": "code",
   "execution_count": 3,
   "id": "flush-wilson",
   "metadata": {},
   "outputs": [],
   "source": [
    "# example: Valve AA has flow rate=0; tunnels lead to valves DD, II, BB\n",
    "# example 2: Valve HH has flow rate=22; tunnel leads to valve GG\n",
    "\n",
    "valves = {}\n",
    "\n",
    "pattern1 = r\"Valve (?P<valve>\\w+) has flow rate=(?P<flow_rate>\\w+); tunnels lead to valves (?P<to_valves>\\w+(.*?)$)\"\n",
    "pattern2 = r\"Valve (?P<valve>\\w+) has flow rate=(?P<flow_rate>\\w+); tunnel leads to valve (?P<to_valves>\\w+(.*?)$)\"\n",
    "\n",
    "with open('Day 16 test.txt', 'r') as txt_file:\n",
    "    \n",
    "    for line in txt_file.readlines():\n",
    "        \n",
    "        if 'tunnels' in line.rstrip('\\n'):\n",
    "            \n",
    "            info = re.match(pattern1, line.rstrip('\\n'))\n",
    "        \n",
    "        else:\n",
    "            \n",
    "            info = re.match(pattern2, line.rstrip('\\n'))\n",
    "            \n",
    "        valves[info['valve']] = {'flow_rate': int(info['flow_rate']), 'to_valves': info['to_valves'].split(', ')}\n",
    "    "
   ]
  },
  {
   "cell_type": "code",
   "execution_count": 4,
   "id": "floral-symbol",
   "metadata": {},
   "outputs": [
    {
     "data": {
      "text/plain": [
       "{'AA': {'flow_rate': 0, 'to_valves': ['DD', 'II', 'BB']},\n",
       " 'BB': {'flow_rate': 13, 'to_valves': ['CC', 'AA']},\n",
       " 'CC': {'flow_rate': 2, 'to_valves': ['DD', 'BB']},\n",
       " 'DD': {'flow_rate': 20, 'to_valves': ['CC', 'AA', 'EE']},\n",
       " 'EE': {'flow_rate': 3, 'to_valves': ['FF', 'DD']},\n",
       " 'FF': {'flow_rate': 0, 'to_valves': ['EE', 'GG']},\n",
       " 'GG': {'flow_rate': 0, 'to_valves': ['FF', 'HH']},\n",
       " 'HH': {'flow_rate': 22, 'to_valves': ['GG']},\n",
       " 'II': {'flow_rate': 0, 'to_valves': ['AA', 'JJ']},\n",
       " 'JJ': {'flow_rate': 21, 'to_valves': ['II']}}"
      ]
     },
     "execution_count": 4,
     "metadata": {},
     "output_type": "execute_result"
    }
   ],
   "source": [
    "valves"
   ]
  },
  {
   "cell_type": "code",
   "execution_count": 24,
   "id": "divided-stable",
   "metadata": {},
   "outputs": [],
   "source": [
    "def next_move(current_valve,open_valves,t,t_max):\n",
    "    \n",
    "    current_valves = [current_valve]    \n",
    "    new_current_valves = []\n",
    "    temp_checked_valves = set()\n",
    "    flow_dict = {}\n",
    "\n",
    "\n",
    "    while True:\n",
    "        \n",
    "        check_val_length = len(temp_checked_valves)\n",
    "        \n",
    "        for v in current_valves:\n",
    "            \n",
    "            if v in open_valves:\n",
    "                temp_checked_valves.add(v)\n",
    "                new_current_valves.extend(valves[v]['to_valves'])\n",
    "                 \n",
    "            elif v not in temp_checked_valves and v not in open_valves:\n",
    "                temp_checked_valves.add(v)\n",
    "                flow_dict[v] = [valves[v]['flow_rate'] * (t_max - t), t]\n",
    "\n",
    "                new_current_valves.extend(valves[v]['to_valves'])\n",
    "\n",
    "        if len(temp_checked_valves) == check_val_length:\n",
    "            break\n",
    "        else:\n",
    "            t+=2\n",
    "            current_valves = list(set(new_current_valves))\n",
    "    \n",
    "    \n",
    "    flow = 0\n",
    "    for key,val in flow_dict.items():\n",
    "        if val[0] > flow:\n",
    "            flow = val[0]\n",
    "            next_valve = key\n",
    "            add_time = val[1]\n",
    "\n",
    "    return next_valve, add_time, flow\n",
    "    \n"
   ]
  },
  {
   "cell_type": "code",
   "execution_count": 29,
   "id": "electronic-plasma",
   "metadata": {},
   "outputs": [
    {
     "data": {
      "text/plain": [
       "('BB', 5, 13)"
      ]
     },
     "execution_count": 29,
     "metadata": {},
     "output_type": "execute_result"
    }
   ],
   "source": [
    "open_valves = ['DD']\n",
    "next_move('DD',open_valves,1,6)"
   ]
  },
  {
   "cell_type": "code",
   "execution_count": 33,
   "id": "infectious-agent",
   "metadata": {},
   "outputs": [
    {
     "name": "stdout",
     "output_type": "stream",
     "text": [
      "1 [] AA\n",
      "DD 3 540\n",
      "4 ['DD'] DD\n",
      "JJ 10 420\n",
      "14 ['DD', 'JJ'] JJ\n",
      "BB 20 130\n"
     ]
    }
   ],
   "source": [
    "t = 1\n",
    "t_max = 30\n",
    "open_valves = []\n",
    "start_valve = 'AA'\n",
    "total_flow = 0\n",
    "\n",
    "while t < t_max:\n",
    "    \n",
    "    print(t, open_valves,start_valve)\n",
    "    next_valve, add_time, flow = next_move(start_valve,open_valves,t,30)\n",
    "    print(next_valve, add_time, flow)\n",
    "    if next_valve == start_valve:\n",
    "        \n",
    "        t += 1+add_time\n",
    "    \n",
    "    else:\n",
    "        \n",
    "        t+= add_time\n",
    "        start_valve = next_valve\n",
    "    \n",
    "    if t < t_max:\n",
    "        total_flow += flow\n",
    "        \n",
    "    open_valves.append(next_valve)\n",
    "    \n"
   ]
  },
  {
   "cell_type": "code",
   "execution_count": 34,
   "id": "frozen-wrong",
   "metadata": {},
   "outputs": [
    {
     "data": {
      "text/plain": [
       "960"
      ]
     },
     "execution_count": 34,
     "metadata": {},
     "output_type": "execute_result"
    }
   ],
   "source": [
    "total_flow"
   ]
  },
  {
   "cell_type": "code",
   "execution_count": 11,
   "id": "killing-american",
   "metadata": {},
   "outputs": [
    {
     "data": {
      "text/plain": [
       "['DD']"
      ]
     },
     "execution_count": 11,
     "metadata": {},
     "output_type": "execute_result"
    }
   ],
   "source": [
    "open_valves"
   ]
  },
  {
   "cell_type": "code",
   "execution_count": 111,
   "id": "drawn-spyware",
   "metadata": {},
   "outputs": [
    {
     "name": "stdout",
     "output_type": "stream",
     "text": [
      "DD\n"
     ]
    }
   ],
   "source": [
    "flow = 0\n",
    "for k,v in flow_dict.items():\n",
    "    if v > flow:\n",
    "        flow = v\n",
    "        next_valve = k\n",
    "        \n",
    "print(next_valve)"
   ]
  },
  {
   "cell_type": "code",
   "execution_count": 96,
   "id": "structured-satellite",
   "metadata": {},
   "outputs": [
    {
     "name": "stdout",
     "output_type": "stream",
     "text": [
      "AA\n",
      "BB\n",
      "CC\n",
      "DD\n",
      "EE\n",
      "FF\n",
      "GG\n",
      "HH\n",
      "II\n",
      "JJ\n"
     ]
    }
   ],
   "source": [
    "for key in valves.keys():\n",
    "    print(key)"
   ]
  },
  {
   "cell_type": "code",
   "execution_count": 98,
   "id": "professional-death",
   "metadata": {},
   "outputs": [],
   "source": [
    "a = set(['a','b'])"
   ]
  },
  {
   "cell_type": "code",
   "execution_count": 103,
   "id": "legal-haiti",
   "metadata": {},
   "outputs": [
    {
     "data": {
      "text/plain": [
       "2"
      ]
     },
     "execution_count": 103,
     "metadata": {},
     "output_type": "execute_result"
    }
   ],
   "source": [
    "len(a)"
   ]
  },
  {
   "cell_type": "code",
   "execution_count": 101,
   "id": "statistical-italic",
   "metadata": {},
   "outputs": [
    {
     "data": {
      "text/plain": [
       "False"
      ]
     },
     "execution_count": 101,
     "metadata": {},
     "output_type": "execute_result"
    }
   ],
   "source": [
    "'c' in a"
   ]
  },
  {
   "cell_type": "code",
   "execution_count": null,
   "id": "received-aging",
   "metadata": {},
   "outputs": [],
   "source": []
  }
 ],
 "metadata": {
  "kernelspec": {
   "display_name": "Python 3",
   "language": "python",
   "name": "python3"
  },
  "language_info": {
   "codemirror_mode": {
    "name": "ipython",
    "version": 3
   },
   "file_extension": ".py",
   "mimetype": "text/x-python",
   "name": "python",
   "nbconvert_exporter": "python",
   "pygments_lexer": "ipython3",
   "version": "3.8.10"
  }
 },
 "nbformat": 4,
 "nbformat_minor": 5
}
